{
 "cells": [
  {
   "cell_type": "code",
   "execution_count": 1138,
   "metadata": {},
   "outputs": [],
   "source": [
    "import warnings\n",
    "warnings.filterwarnings('ignore')\n",
    "import pandas as pd\n",
    "import numpy as np\n",
    "import matplotlib\n",
    "from matplotlib import pyplot as plt\n",
    "import seaborn as sns\n",
    "matplotlib.style.use('ggplot')\n",
    "%matplotlib inline\n",
    "\n",
    "from sklearn.model_selection import train_test_split\n",
    "from sklearn.model_selection import GridSearchCV, StratifiedKFold\n",
    "from sklearn.metrics import roc_auc_score, accuracy_score, f1_score\n",
    "\n",
    "TEST_SIZE = 0.3\n",
    "CV = 7\n",
    "RSTATE = 12\n",
    "\n",
    "PATH = r'D:\\\\DA\\\\Kaggle\\Titanic\\\\'"
   ]
  },
  {
   "cell_type": "markdown",
   "metadata": {},
   "source": [
    "# Exploratory Data Analysis"
   ]
  },
  {
   "cell_type": "code",
   "execution_count": 1139,
   "metadata": {
    "scrolled": true
   },
   "outputs": [
    {
     "data": {
      "text/html": [
       "<div>\n",
       "<style scoped>\n",
       "    .dataframe tbody tr th:only-of-type {\n",
       "        vertical-align: middle;\n",
       "    }\n",
       "\n",
       "    .dataframe tbody tr th {\n",
       "        vertical-align: top;\n",
       "    }\n",
       "\n",
       "    .dataframe thead th {\n",
       "        text-align: right;\n",
       "    }\n",
       "</style>\n",
       "<table border=\"1\" class=\"dataframe\">\n",
       "  <thead>\n",
       "    <tr style=\"text-align: right;\">\n",
       "      <th></th>\n",
       "      <th>PassengerId</th>\n",
       "      <th>Survived</th>\n",
       "      <th>Pclass</th>\n",
       "      <th>Name</th>\n",
       "      <th>Sex</th>\n",
       "      <th>Age</th>\n",
       "      <th>SibSp</th>\n",
       "      <th>Parch</th>\n",
       "      <th>Ticket</th>\n",
       "      <th>Fare</th>\n",
       "      <th>Cabin</th>\n",
       "      <th>Embarked</th>\n",
       "    </tr>\n",
       "  </thead>\n",
       "  <tbody>\n",
       "    <tr>\n",
       "      <th>0</th>\n",
       "      <td>1</td>\n",
       "      <td>0</td>\n",
       "      <td>3</td>\n",
       "      <td>Braund, Mr. Owen Harris</td>\n",
       "      <td>male</td>\n",
       "      <td>22.0</td>\n",
       "      <td>1</td>\n",
       "      <td>0</td>\n",
       "      <td>A/5 21171</td>\n",
       "      <td>7.2500</td>\n",
       "      <td>NaN</td>\n",
       "      <td>S</td>\n",
       "    </tr>\n",
       "    <tr>\n",
       "      <th>1</th>\n",
       "      <td>2</td>\n",
       "      <td>1</td>\n",
       "      <td>1</td>\n",
       "      <td>Cumings, Mrs. John Bradley (Florence Briggs Th...</td>\n",
       "      <td>female</td>\n",
       "      <td>38.0</td>\n",
       "      <td>1</td>\n",
       "      <td>0</td>\n",
       "      <td>PC 17599</td>\n",
       "      <td>71.2833</td>\n",
       "      <td>C85</td>\n",
       "      <td>C</td>\n",
       "    </tr>\n",
       "    <tr>\n",
       "      <th>2</th>\n",
       "      <td>3</td>\n",
       "      <td>1</td>\n",
       "      <td>3</td>\n",
       "      <td>Heikkinen, Miss. Laina</td>\n",
       "      <td>female</td>\n",
       "      <td>26.0</td>\n",
       "      <td>0</td>\n",
       "      <td>0</td>\n",
       "      <td>STON/O2. 3101282</td>\n",
       "      <td>7.9250</td>\n",
       "      <td>NaN</td>\n",
       "      <td>S</td>\n",
       "    </tr>\n",
       "    <tr>\n",
       "      <th>3</th>\n",
       "      <td>4</td>\n",
       "      <td>1</td>\n",
       "      <td>1</td>\n",
       "      <td>Futrelle, Mrs. Jacques Heath (Lily May Peel)</td>\n",
       "      <td>female</td>\n",
       "      <td>35.0</td>\n",
       "      <td>1</td>\n",
       "      <td>0</td>\n",
       "      <td>113803</td>\n",
       "      <td>53.1000</td>\n",
       "      <td>C123</td>\n",
       "      <td>S</td>\n",
       "    </tr>\n",
       "    <tr>\n",
       "      <th>4</th>\n",
       "      <td>5</td>\n",
       "      <td>0</td>\n",
       "      <td>3</td>\n",
       "      <td>Allen, Mr. William Henry</td>\n",
       "      <td>male</td>\n",
       "      <td>35.0</td>\n",
       "      <td>0</td>\n",
       "      <td>0</td>\n",
       "      <td>373450</td>\n",
       "      <td>8.0500</td>\n",
       "      <td>NaN</td>\n",
       "      <td>S</td>\n",
       "    </tr>\n",
       "  </tbody>\n",
       "</table>\n",
       "</div>"
      ],
      "text/plain": [
       "   PassengerId  Survived  Pclass  \\\n",
       "0            1         0       3   \n",
       "1            2         1       1   \n",
       "2            3         1       3   \n",
       "3            4         1       1   \n",
       "4            5         0       3   \n",
       "\n",
       "                                                Name     Sex   Age  SibSp  \\\n",
       "0                            Braund, Mr. Owen Harris    male  22.0      1   \n",
       "1  Cumings, Mrs. John Bradley (Florence Briggs Th...  female  38.0      1   \n",
       "2                             Heikkinen, Miss. Laina  female  26.0      0   \n",
       "3       Futrelle, Mrs. Jacques Heath (Lily May Peel)  female  35.0      1   \n",
       "4                           Allen, Mr. William Henry    male  35.0      0   \n",
       "\n",
       "   Parch            Ticket     Fare Cabin Embarked  \n",
       "0      0         A/5 21171   7.2500   NaN        S  \n",
       "1      0          PC 17599  71.2833   C85        C  \n",
       "2      0  STON/O2. 3101282   7.9250   NaN        S  \n",
       "3      0            113803  53.1000  C123        S  \n",
       "4      0            373450   8.0500   NaN        S  "
      ]
     },
     "execution_count": 1139,
     "metadata": {},
     "output_type": "execute_result"
    }
   ],
   "source": [
    "data = pd.read_csv(PATH + 'train.csv')\n",
    "data_pred = pd.read_csv(PATH + 'test.csv')\n",
    "data.head()"
   ]
  },
  {
   "cell_type": "code",
   "execution_count": 1140,
   "metadata": {},
   "outputs": [
    {
     "name": "stdout",
     "output_type": "stream",
     "text": [
      "(891, 12)\n",
      "(418, 11)\n",
      "549\n",
      "342\n"
     ]
    }
   ],
   "source": [
    "print(data.shape)\n",
    "print(data_pred.shape)\n",
    "X = data.drop(['Survived', 'PassengerId'], 1)\n",
    "X_pred = data_pred.drop('PassengerId', 1)\n",
    "y = data['Survived']\n",
    "print(np.sum(y==0))\n",
    "print(np.sum(y==1))"
   ]
  },
  {
   "cell_type": "code",
   "execution_count": 1141,
   "metadata": {
    "scrolled": false
   },
   "outputs": [
    {
     "data": {
      "image/png": "[encoded data removed]",
      "text/plain": [
       "<Figure size 411.875x360 with 1 Axes>"
      ]
     },
     "metadata": {
      "needs_background": "light"
     },
     "output_type": "display_data"
    }
   ],
   "source": [
    "sns.catplot(x='Sex', data=data, hue = 'Survived', kind = 'count');"
   ]
  },
  {
   "cell_type": "code",
   "execution_count": 1142,
   "metadata": {},
   "outputs": [
    {
     "data": {
      "image/png": "[encoded data removed]",
      "text/plain": [
       "<Figure size 411.875x360 with 1 Axes>"
      ]
     },
     "metadata": {
      "needs_background": "light"
     },
     "output_type": "display_data"
    }
   ],
   "source": [
    "sns.catplot(x='Pclass', data=data, hue = 'Survived', kind = 'count');"
   ]
  },
  {
   "cell_type": "code",
   "execution_count": 1143,
   "metadata": {},
   "outputs": [
    {
     "data": {
      "image/png": "[encoded data removed]",
      "text/plain": [
       "<Figure size 432x288 with 1 Axes>"
      ]
     },
     "metadata": {
      "needs_background": "light"
     },
     "output_type": "display_data"
    }
   ],
   "source": [
    "sns.kdeplot(data['Age'][data['Survived'] == 1], color='green', shade=True);\n",
    "sns.kdeplot(data['Age'][data['Survived'] == 0], color='red', shade=True);"
   ]
  },
  {
   "cell_type": "code",
   "execution_count": 1144,
   "metadata": {},
   "outputs": [
    {
     "data": {
      "image/png": "[encoded data removed]",
      "text/plain": [
       "<Figure size 411.875x360 with 1 Axes>"
      ]
     },
     "metadata": {
      "needs_background": "light"
     },
     "output_type": "display_data"
    }
   ],
   "source": [
    "data['AgeGroup'] = round(data['Age']/16)\n",
    "sns.catplot(x='AgeGroup', data=data, hue = 'Survived', kind = 'count');"
   ]
  },
  {
   "cell_type": "code",
   "execution_count": 1145,
   "metadata": {},
   "outputs": [
    {
     "data": {
      "image/png": "[encoded data removed]",
      "text/plain": [
       "<Figure size 432x288 with 1 Axes>"
      ]
     },
     "metadata": {
      "needs_background": "light"
     },
     "output_type": "display_data"
    }
   ],
   "source": [
    "sns.kdeplot(data['Fare'][data['Survived'] == 1], color='green', shade=True);\n",
    "sns.kdeplot(data['Fare'][data['Survived'] == 0], color='red', shade=True);"
   ]
  },
  {
   "cell_type": "code",
   "execution_count": 1146,
   "metadata": {},
   "outputs": [
    {
     "data": {
      "image/png": "[encoded data removed]",
      "text/plain": [
       "<Figure size 411.875x360 with 1 Axes>"
      ]
     },
     "metadata": {
      "needs_background": "light"
     },
     "output_type": "display_data"
    }
   ],
   "source": [
    "data['FareGroup'] = round(data['Fare']/30)\n",
    "sns.catplot(x='FareGroup', data=data, hue = 'Survived', kind = 'count');"
   ]
  },
  {
   "cell_type": "code",
   "execution_count": 1147,
   "metadata": {},
   "outputs": [
    {
     "data": {
      "image/png": "[encoded data removed]",
      "text/plain": [
       "<Figure size 411.875x360 with 1 Axes>"
      ]
     },
     "metadata": {
      "needs_background": "light"
     },
     "output_type": "display_data"
    }
   ],
   "source": [
    "data['Relations'] = data['SibSp'] + data['Parch']\n",
    "sns.catplot(x='Relations', data=data, hue = 'Survived', kind = 'count');"
   ]
  },
  {
   "cell_type": "code",
   "execution_count": 1148,
   "metadata": {},
   "outputs": [],
   "source": [
    "#Для обработки поля Cabin\n",
    "def get_cab_num(cabin_str):\n",
    "    try:\n",
    "        if len(cabin_str) >= 4:\n",
    "            cabin_str = cabin_str.split(' ')[-1]\n",
    "        return int(cabin_str[1:])\n",
    "    except:\n",
    "        return 0\n",
    "    \n",
    "def get_cab_cat(cabin_num):\n",
    "    if cabin_num == 0:\n",
    "        return 0\n",
    "    return cabin_num // 50 + 1"
   ]
  },
  {
   "cell_type": "code",
   "execution_count": 1149,
   "metadata": {},
   "outputs": [],
   "source": [
    "#Для обработки поля Name\n",
    "def sec_name(nm):\n",
    "    return nm.split(',')[0]\n",
    "\n",
    "def app_name(nm):\n",
    "    sub = nm.split(',')[1]\n",
    "    return sub.split('.')[0].strip()"
   ]
  },
  {
   "cell_type": "code",
   "execution_count": 1150,
   "metadata": {},
   "outputs": [
    {
     "data": {
      "image/png": "[encoded data removed]",
      "text/plain": [
       "<Figure size 411.875x360 with 1 Axes>"
      ]
     },
     "metadata": {
      "needs_background": "light"
     },
     "output_type": "display_data"
    }
   ],
   "source": [
    "data['CabinNumber'] = data['Cabin'].apply(get_cab_num)\n",
    "data['CabinLetter'] = data['Cabin'].astype(str).apply(lambda x: x[0])\n",
    "data['CabinEven'] = data['CabinNumber'].apply(lambda x: 0 if x==0 else x%2 + 1)\n",
    "data['CabinCat'] = data['CabinNumber'].apply(get_cab_cat)\n",
    "sns.catplot(x='CabinEven', data=data, hue = 'Survived', kind = 'count');"
   ]
  },
  {
   "cell_type": "code",
   "execution_count": 1151,
   "metadata": {},
   "outputs": [],
   "source": [
    "data_pred['CabinLetter'] = data_pred['Cabin'].astype(str).apply(lambda x: x[0])\n",
    "full_df = pd.concat([data, data_pred])"
   ]
  },
  {
   "cell_type": "code",
   "execution_count": 1152,
   "metadata": {},
   "outputs": [
    {
     "data": {
      "text/html": [
       "<div>\n",
       "<style scoped>\n",
       "    .dataframe tbody tr th:only-of-type {\n",
       "        vertical-align: middle;\n",
       "    }\n",
       "\n",
       "    .dataframe tbody tr th {\n",
       "        vertical-align: top;\n",
       "    }\n",
       "\n",
       "    .dataframe thead th {\n",
       "        text-align: right;\n",
       "    }\n",
       "</style>\n",
       "<table border=\"1\" class=\"dataframe\">\n",
       "  <thead>\n",
       "    <tr style=\"text-align: right;\">\n",
       "      <th></th>\n",
       "      <th></th>\n",
       "      <th>count</th>\n",
       "      <th>mean</th>\n",
       "      <th>std</th>\n",
       "      <th>min</th>\n",
       "      <th>25%</th>\n",
       "      <th>50%</th>\n",
       "      <th>75%</th>\n",
       "      <th>max</th>\n",
       "    </tr>\n",
       "    <tr>\n",
       "      <th>Pclass</th>\n",
       "      <th>CabinLetter</th>\n",
       "      <th></th>\n",
       "      <th></th>\n",
       "      <th></th>\n",
       "      <th></th>\n",
       "      <th></th>\n",
       "      <th></th>\n",
       "      <th></th>\n",
       "      <th></th>\n",
       "    </tr>\n",
       "  </thead>\n",
       "  <tbody>\n",
       "    <tr>\n",
       "      <th rowspan=\"7\" valign=\"top\">1</th>\n",
       "      <th>A</th>\n",
       "      <td>22.0</td>\n",
       "      <td>41.244314</td>\n",
       "      <td>20.140358</td>\n",
       "      <td>0.0000</td>\n",
       "      <td>30.1250</td>\n",
       "      <td>35.07710</td>\n",
       "      <td>50.371850</td>\n",
       "      <td>81.8583</td>\n",
       "    </tr>\n",
       "    <tr>\n",
       "      <th>B</th>\n",
       "      <td>65.0</td>\n",
       "      <td>122.383078</td>\n",
       "      <td>115.312993</td>\n",
       "      <td>0.0000</td>\n",
       "      <td>57.0000</td>\n",
       "      <td>82.26670</td>\n",
       "      <td>146.520800</td>\n",
       "      <td>512.3292</td>\n",
       "    </tr>\n",
       "    <tr>\n",
       "      <th>C</th>\n",
       "      <td>94.0</td>\n",
       "      <td>107.926598</td>\n",
       "      <td>72.912034</td>\n",
       "      <td>25.7000</td>\n",
       "      <td>52.0000</td>\n",
       "      <td>86.28960</td>\n",
       "      <td>151.550000</td>\n",
       "      <td>263.0000</td>\n",
       "    </tr>\n",
       "    <tr>\n",
       "      <th>D</th>\n",
       "      <td>40.0</td>\n",
       "      <td>58.919065</td>\n",
       "      <td>25.256615</td>\n",
       "      <td>25.9292</td>\n",
       "      <td>33.5958</td>\n",
       "      <td>53.10000</td>\n",
       "      <td>76.868775</td>\n",
       "      <td>113.2750</td>\n",
       "    </tr>\n",
       "    <tr>\n",
       "      <th>E</th>\n",
       "      <td>34.0</td>\n",
       "      <td>63.464706</td>\n",
       "      <td>35.322753</td>\n",
       "      <td>25.5875</td>\n",
       "      <td>29.5375</td>\n",
       "      <td>55.44170</td>\n",
       "      <td>79.650000</td>\n",
       "      <td>134.5000</td>\n",
       "    </tr>\n",
       "    <tr>\n",
       "      <th>T</th>\n",
       "      <td>1.0</td>\n",
       "      <td>35.500000</td>\n",
       "      <td>NaN</td>\n",
       "      <td>35.5000</td>\n",
       "      <td>35.5000</td>\n",
       "      <td>35.50000</td>\n",
       "      <td>35.500000</td>\n",
       "      <td>35.5000</td>\n",
       "    </tr>\n",
       "    <tr>\n",
       "      <th>n</th>\n",
       "      <td>67.0</td>\n",
       "      <td>70.268157</td>\n",
       "      <td>80.114953</td>\n",
       "      <td>0.0000</td>\n",
       "      <td>26.5500</td>\n",
       "      <td>39.60000</td>\n",
       "      <td>79.200000</td>\n",
       "      <td>512.3292</td>\n",
       "    </tr>\n",
       "    <tr>\n",
       "      <th rowspan=\"4\" valign=\"top\">2</th>\n",
       "      <th>D</th>\n",
       "      <td>6.0</td>\n",
       "      <td>13.595833</td>\n",
       "      <td>0.829640</td>\n",
       "      <td>12.8750</td>\n",
       "      <td>13.0000</td>\n",
       "      <td>13.39585</td>\n",
       "      <td>13.844800</td>\n",
       "      <td>15.0458</td>\n",
       "    </tr>\n",
       "    <tr>\n",
       "      <th>E</th>\n",
       "      <td>4.0</td>\n",
       "      <td>11.587500</td>\n",
       "      <td>1.283469</td>\n",
       "      <td>10.5000</td>\n",
       "      <td>10.5000</td>\n",
       "      <td>11.42500</td>\n",
       "      <td>12.512500</td>\n",
       "      <td>13.0000</td>\n",
       "    </tr>\n",
       "    <tr>\n",
       "      <th>F</th>\n",
       "      <td>13.0</td>\n",
       "      <td>23.423077</td>\n",
       "      <td>12.306580</td>\n",
       "      <td>10.5000</td>\n",
       "      <td>13.0000</td>\n",
       "      <td>26.00000</td>\n",
       "      <td>39.000000</td>\n",
       "      <td>39.0000</td>\n",
       "    </tr>\n",
       "    <tr>\n",
       "      <th>n</th>\n",
       "      <td>254.0</td>\n",
       "      <td>21.394537</td>\n",
       "      <td>13.843615</td>\n",
       "      <td>0.0000</td>\n",
       "      <td>13.0000</td>\n",
       "      <td>15.66460</td>\n",
       "      <td>26.000000</td>\n",
       "      <td>73.5000</td>\n",
       "    </tr>\n",
       "    <tr>\n",
       "      <th rowspan=\"4\" valign=\"top\">3</th>\n",
       "      <th>E</th>\n",
       "      <td>3.0</td>\n",
       "      <td>11.000000</td>\n",
       "      <td>2.554775</td>\n",
       "      <td>8.0500</td>\n",
       "      <td>10.2625</td>\n",
       "      <td>12.47500</td>\n",
       "      <td>12.475000</td>\n",
       "      <td>12.4750</td>\n",
       "    </tr>\n",
       "    <tr>\n",
       "      <th>F</th>\n",
       "      <td>8.0</td>\n",
       "      <td>9.395838</td>\n",
       "      <td>5.241519</td>\n",
       "      <td>7.2292</td>\n",
       "      <td>7.5448</td>\n",
       "      <td>7.65000</td>\n",
       "      <td>7.675000</td>\n",
       "      <td>22.3583</td>\n",
       "    </tr>\n",
       "    <tr>\n",
       "      <th>G</th>\n",
       "      <td>5.0</td>\n",
       "      <td>14.205000</td>\n",
       "      <td>3.416419</td>\n",
       "      <td>10.4625</td>\n",
       "      <td>10.4625</td>\n",
       "      <td>16.70000</td>\n",
       "      <td>16.700000</td>\n",
       "      <td>16.7000</td>\n",
       "    </tr>\n",
       "    <tr>\n",
       "      <th>n</th>\n",
       "      <td>692.0</td>\n",
       "      <td>13.351522</td>\n",
       "      <td>11.602014</td>\n",
       "      <td>0.0000</td>\n",
       "      <td>7.7500</td>\n",
       "      <td>8.05000</td>\n",
       "      <td>15.245800</td>\n",
       "      <td>69.5500</td>\n",
       "    </tr>\n",
       "  </tbody>\n",
       "</table>\n",
       "</div>"
      ],
      "text/plain": [
       "                    count        mean         std      min      25%       50%  \\\n",
       "Pclass CabinLetter                                                              \n",
       "1      A             22.0   41.244314   20.140358   0.0000  30.1250  35.07710   \n",
       "       B             65.0  122.383078  115.312993   0.0000  57.0000  82.26670   \n",
       "       C             94.0  107.926598   72.912034  25.7000  52.0000  86.28960   \n",
       "       D             40.0   58.919065   25.256615  25.9292  33.5958  53.10000   \n",
       "       E             34.0   63.464706   35.322753  25.5875  29.5375  55.44170   \n",
       "       T              1.0   35.500000         NaN  35.5000  35.5000  35.50000   \n",
       "       n             67.0   70.268157   80.114953   0.0000  26.5500  39.60000   \n",
       "2      D              6.0   13.595833    0.829640  12.8750  13.0000  13.39585   \n",
       "       E              4.0   11.587500    1.283469  10.5000  10.5000  11.42500   \n",
       "       F             13.0   23.423077   12.306580  10.5000  13.0000  26.00000   \n",
       "       n            254.0   21.394537   13.843615   0.0000  13.0000  15.66460   \n",
       "3      E              3.0   11.000000    2.554775   8.0500  10.2625  12.47500   \n",
       "       F              8.0    9.395838    5.241519   7.2292   7.5448   7.65000   \n",
       "       G              5.0   14.205000    3.416419  10.4625  10.4625  16.70000   \n",
       "       n            692.0   13.351522   11.602014   0.0000   7.7500   8.05000   \n",
       "\n",
       "                           75%       max  \n",
       "Pclass CabinLetter                        \n",
       "1      A             50.371850   81.8583  \n",
       "       B            146.520800  512.3292  \n",
       "       C            151.550000  263.0000  \n",
       "       D             76.868775  113.2750  \n",
       "       E             79.650000  134.5000  \n",
       "       T             35.500000   35.5000  \n",
       "       n             79.200000  512.3292  \n",
       "2      D             13.844800   15.0458  \n",
       "       E             12.512500   13.0000  \n",
       "       F             39.000000   39.0000  \n",
       "       n             26.000000   73.5000  \n",
       "3      E             12.475000   12.4750  \n",
       "       F              7.675000   22.3583  \n",
       "       G             16.700000   16.7000  \n",
       "       n             15.245800   69.5500  "
      ]
     },
     "execution_count": 1152,
     "metadata": {},
     "output_type": "execute_result"
    }
   ],
   "source": [
    "full_df.groupby(['Pclass', 'CabinLetter'])['Fare'].describe()"
   ]
  },
  {
   "cell_type": "code",
   "execution_count": 1153,
   "metadata": {},
   "outputs": [
    {
     "data": {
      "image/png": "[encoded data removed]",
      "text/plain": [
       "<Figure size 432x288 with 1 Axes>"
      ]
     },
     "metadata": {
      "needs_background": "light"
     },
     "output_type": "display_data"
    }
   ],
   "source": [
    "sns.boxplot(x='CabinLetter', y='Fare', data=full_df[full_df['Pclass'] == 1]);"
   ]
  },
  {
   "cell_type": "code",
   "execution_count": 1154,
   "metadata": {},
   "outputs": [],
   "source": [
    "# Generating CabinLetter when Cabin == NaN\n",
    "def create_cletter(args):\n",
    "    [cletter, ticket, fare, pclass]  = args\n",
    "    if cletter != 'n':\n",
    "        return cletter\n",
    "    sub_df = full_df[(full_df['Ticket'] == ticket) & (full_df['CabinLetter'] != 'n')]\n",
    "    if sub_df.shape[0] >= 1:   # There is another traveller with the same ticket and not blank Cabin\n",
    "        return sub_df['CabinLetter'].values[0]\n",
    "    if pclass == 1:\n",
    "        return 'D' if fare < 75 else 'C'\n",
    "    return cletter"
   ]
  },
  {
   "cell_type": "code",
   "execution_count": 1155,
   "metadata": {},
   "outputs": [],
   "source": [
    "data['CabinLetter'] = data[['CabinLetter', 'Ticket', 'Fare', 'Pclass']].apply(create_cletter, axis=1)\n",
    "data_pred['CabinLetter'] = data_pred[['CabinLetter', 'Ticket', 'Fare', 'Pclass']].apply(create_cletter, axis=1)"
   ]
  },
  {
   "cell_type": "code",
   "execution_count": 1156,
   "metadata": {},
   "outputs": [
    {
     "data": {
      "image/png": "[encoded data removed]",
      "text/plain": [
       "<Figure size 411.875x360 with 1 Axes>"
      ]
     },
     "metadata": {
      "needs_background": "light"
     },
     "output_type": "display_data"
    }
   ],
   "source": [
    "sns.catplot(x='CabinLetter', data=data, hue = 'Survived', kind = 'count');"
   ]
  },
  {
   "cell_type": "code",
   "execution_count": 1157,
   "metadata": {},
   "outputs": [
    {
     "data": {
      "image/png": "[encoded data removed]",
      "text/plain": [
       "<Figure size 432x288 with 1 Axes>"
      ]
     },
     "metadata": {
      "needs_background": "light"
     },
     "output_type": "display_data"
    }
   ],
   "source": [
    "sns.kdeplot(data['CabinNumber'][data['Survived'] == 1], color='green', shade=True);\n",
    "sns.kdeplot(data['CabinNumber'][data['Survived'] == 0], color='red', shade=True);"
   ]
  },
  {
   "cell_type": "code",
   "execution_count": 1158,
   "metadata": {},
   "outputs": [
    {
     "data": {
      "image/png": "[encoded data removed]",
      "text/plain": [
       "<Figure size 432x288 with 1 Axes>"
      ]
     },
     "metadata": {
      "needs_background": "light"
     },
     "output_type": "display_data"
    }
   ],
   "source": [
    "sns.kdeplot(data[data['CabinNumber']!=0]['CabinNumber'][data['Survived'] == 1], color='green', shade=True);\n",
    "sns.kdeplot(data[data['CabinNumber']!=0]['CabinNumber'][data['Survived'] == 0], color='red', shade=True);"
   ]
  },
  {
   "cell_type": "code",
   "execution_count": 1159,
   "metadata": {},
   "outputs": [
    {
     "data": {
      "image/png": "[encoded data removed]",
      "text/plain": [
       "<Figure size 411.875x360 with 1 Axes>"
      ]
     },
     "metadata": {
      "needs_background": "light"
     },
     "output_type": "display_data"
    }
   ],
   "source": [
    "sns.catplot(x='CabinCat', data=data, hue = 'Survived', kind = 'count');"
   ]
  },
  {
   "cell_type": "code",
   "execution_count": 1160,
   "metadata": {},
   "outputs": [],
   "source": [
    "# Leaderboard Probing\n",
    "y_probing = np.array([1]*data_pred.shape[0])\n",
    "probing = pd.DataFrame({'PassengerId': data_pred.PassengerId, 'Survived': y_probing})\n",
    "probing.to_csv(PATH + 'titanic_probing.csv', index=False)\n",
    "# Accuracy = 0.37799"
   ]
  },
  {
   "cell_type": "code",
   "execution_count": 1161,
   "metadata": {},
   "outputs": [
    {
     "name": "stdout",
     "output_type": "stream",
     "text": [
      "Number of Passengers in Train Set: 891\n",
      "Number of Survived in Train Set: 342 (38.4%)\n",
      "Number of Passengers in Test Set: 418\n",
      "Number of Survived in Test Set: 158 (37.8%)\n"
     ]
    }
   ],
   "source": [
    "print(\"Number of Passengers in Train Set: {}\".format(data.shape[0]))\n",
    "print(\"Number of Survived in Train Set: {} ({:.1%})\".format(sum(y==1), sum(y==1)/y.shape[0]))\n",
    "perc = 0.37799\n",
    "n_surv = round(data_pred.shape[0] * perc)\n",
    "print(\"Number of Passengers in Test Set: {}\".format(data_pred.shape[0]))\n",
    "print(\"Number of Survived in Test Set: {} ({:.1%})\".format(n_surv, perc))"
   ]
  },
  {
   "cell_type": "code",
   "execution_count": 1162,
   "metadata": {},
   "outputs": [],
   "source": [
    "def tune_pred(y_proba):\n",
    "    thr = sorted(y_proba, reverse=True)[n_surv]\n",
    "    return np.array([int(p>thr) for p in y_proba])    "
   ]
  },
  {
   "cell_type": "code",
   "execution_count": 1163,
   "metadata": {},
   "outputs": [],
   "source": [
    "def submit(y_pred, filename):\n",
    "    output = pd.DataFrame({'PassengerId': data_pred.PassengerId, 'Survived': y_pred})\n",
    "    output.to_csv(PATH + filename, index=False)\n",
    "    print(\"Your submission was successfully saved: \" + filename)"
   ]
  },
  {
   "cell_type": "code",
   "execution_count": 1164,
   "metadata": {},
   "outputs": [],
   "source": [
    "# Features generating for all models\n",
    "X['Relatives'] = X['SibSp'] + X['Parch']\n",
    "X_pred['Relatives'] = X_pred['SibSp'] + X_pred['Parch']\n",
    "\n",
    "X['SecondName'] = X['Name'].apply(sec_name)\n",
    "X_pred['SecondName'] = X_pred['Name'].apply(sec_name)\n",
    "\n",
    "X['AppName'] = X['Name'].apply(app_name)\n",
    "X_pred['AppName'] = X_pred['Name'].apply(app_name)\n",
    "\n",
    "X['CabinNumber'] = X['Cabin'].apply(get_cab_num)\n",
    "X['CabinLetter'] = X['Cabin'].astype(str).apply(lambda x: x[0])\n",
    "X['CabinEven'] = X['CabinNumber'].apply(lambda x: 0 if x==0 else x%2 + 1)\n",
    "\n",
    "X_pred['CabinNumber'] = X_pred['Cabin'].apply(get_cab_num)\n",
    "X_pred['CabinLetter'] = X_pred['Cabin'].astype(str).apply(lambda x: x[0])\n",
    "X_pred['CabinEven'] = X_pred['CabinNumber'].apply(lambda x: 0 if x==0 else x%2 + 1)\n",
    "\n",
    "X['CabinLetter'] = X[['CabinLetter', 'Ticket', 'Fare', 'Pclass']].apply(create_cletter, axis=1)\n",
    "X_pred['CabinLetter'] = X_pred[['CabinLetter', 'Ticket', 'Fare', 'Pclass']].apply(create_cletter, axis=1)"
   ]
  },
  {
   "cell_type": "code",
   "execution_count": 1165,
   "metadata": {},
   "outputs": [],
   "source": [
    "# Saving the data for all models\n",
    "X.to_csv(PATH + 'x_train.csv', index=False)\n",
    "X_pred.to_csv(PATH + 'x_pred.csv', index=False)\n",
    "y.to_csv(PATH + 'y.csv', index=False)"
   ]
  },
  {
   "cell_type": "code",
   "execution_count": 1166,
   "metadata": {},
   "outputs": [],
   "source": [
    "def get_data():\n",
    "    X_train = pd.read_csv(PATH + 'x_train.csv')\n",
    "    X_test = pd.read_csv(PATH + 'x_pred.csv')\n",
    "    y = pd.read_csv(PATH + 'y.csv')\n",
    "    return X_train, X_test, y"
   ]
  },
  {
   "cell_type": "markdown",
   "metadata": {},
   "source": [
    "# Model 1: Logistic Regression"
   ]
  },
  {
   "cell_type": "markdown",
   "metadata": {},
   "source": [
    "## Feature Preprocessing for Logistic Regression"
   ]
  },
  {
   "cell_type": "code",
   "execution_count": 1167,
   "metadata": {},
   "outputs": [],
   "source": [
    "X_lr, X_pred_lr, y = get_data()"
   ]
  },
  {
   "cell_type": "code",
   "execution_count": 1168,
   "metadata": {},
   "outputs": [],
   "source": [
    "X_lr['Male'] = (X_lr['Sex'] == 'male').astype(int)\n",
    "X_pred_lr['Male'] = (X_pred_lr['Sex'] == 'male').astype(int)\n",
    "\n",
    "X_lr['Rel_in_13'] = X_lr['Relatives'].apply(lambda x: x>=1 and x<=3).astype(int)\n",
    "X_pred_lr['Rel_in_13'] = X_pred_lr['Relatives'].apply(lambda x: x>=1 and x<=3).astype(int)\n",
    "\n",
    "X_lr['CabinCat'] = X_lr['CabinNumber'].apply(get_cab_cat)\n",
    "X_pred_lr['CabinCat'] = X_pred_lr['CabinNumber'].apply(get_cab_cat)\n",
    "\n",
    "age_dict = pd.DataFrame(pd.concat([X_lr, X_pred_lr]).groupby('AppName')['Age'].median()).squeeze().to_dict()\n",
    "X_lr['Age'] = X_lr['Age'].fillna(X_lr['AppName'].map(age_dict))\n",
    "X_pred_lr['Age'] = X_pred_lr['Age'].fillna(X_pred_lr['AppName'].map(age_dict))\n",
    "\n",
    "X_lr['AgeGroup'] = round(X_lr['Age']/16).astype(int)\n",
    "X_pred_lr['AgeGroup'] = round(X_pred_lr['Age']/16).astype(int)\n",
    "\n",
    "X_lr.drop(['Name', 'Sex', 'Parch', 'Cabin'], axis=1, inplace = True)\n",
    "X_pred_lr.drop(['Name', 'Sex', 'Parch', 'Cabin'], axis=1, inplace = True)"
   ]
  },
  {
   "cell_type": "code",
   "execution_count": 1169,
   "metadata": {},
   "outputs": [],
   "source": [
    "numeric_cols = ['Age', 'Pclass', 'SibSp', 'Fare', 'Male', 'CabinNumber', 'Relatives', 'Rel_in_13'] #   , \n",
    "categorical_cols = list(set(X_lr.columns.values.tolist()) - set(numeric_cols))"
   ]
  },
  {
   "cell_type": "code",
   "execution_count": 1170,
   "metadata": {},
   "outputs": [
    {
     "data": {
      "text/plain": [
       "(Pclass         0\n",
       " Age            0\n",
       " SibSp          0\n",
       " Ticket         0\n",
       " Fare           0\n",
       " Embarked       2\n",
       " Relatives      0\n",
       " SecondName     0\n",
       " AppName        0\n",
       " CabinNumber    0\n",
       " CabinLetter    0\n",
       " CabinEven      0\n",
       " Male           0\n",
       " Rel_in_13      0\n",
       " CabinCat       0\n",
       " AgeGroup       0\n",
       " dtype: int64,\n",
       " Pclass         0\n",
       " Age            0\n",
       " SibSp          0\n",
       " Ticket         0\n",
       " Fare           1\n",
       " Embarked       0\n",
       " Relatives      0\n",
       " SecondName     0\n",
       " AppName        0\n",
       " CabinNumber    0\n",
       " CabinLetter    0\n",
       " CabinEven      0\n",
       " Male           0\n",
       " Rel_in_13      0\n",
       " CabinCat       0\n",
       " AgeGroup       0\n",
       " dtype: int64)"
      ]
     },
     "execution_count": 1170,
     "metadata": {},
     "output_type": "execute_result"
    }
   ],
   "source": [
    "X_lr.isnull().sum(), X_pred_lr.isnull().sum()"
   ]
  },
  {
   "cell_type": "code",
   "execution_count": 1171,
   "metadata": {},
   "outputs": [],
   "source": [
    "# Filling missing values\n",
    "X_real = pd.DataFrame()  # X_real_mean\n",
    "X_pred_real = pd.DataFrame()\n",
    "\n",
    "for num_col in [numeric_cols]:   \n",
    "    X_real[num_col] = X_lr[num_col].fillna(X_lr[num_col].median())\n",
    "    X_pred_real[num_col] = X_pred_lr[num_col].fillna(X_pred_lr[num_col].median())\n",
    "    \n",
    "X_cat = pd.DataFrame()\n",
    "X_pred_cat = pd.DataFrame()\n",
    "for cat_col in categorical_cols:\n",
    "    X_cat[cat_col] = X_lr[cat_col].fillna('NA', inplace=False).astype(str)  \n",
    "    X_pred_cat[cat_col] = X_pred_lr[cat_col].fillna('NA', inplace=False).astype(str)      "
   ]
  },
  {
   "cell_type": "code",
   "execution_count": 1172,
   "metadata": {},
   "outputs": [],
   "source": [
    "from scipy.spatial import distance\n",
    "from tqdm import tqdm\n",
    "from sklearn.preprocessing import OneHotEncoder\n",
    "from sklearn.preprocessing import StandardScaler\n",
    "\n",
    "# Returns mean target value of count closest objects for each object in (X_train_sc, X_test_sc)\n",
    "# Version 2\n",
    "def get_mean_target(X_train, X_test, num_cols, target, count):\n",
    "    train_size, test_size = X_train.shape[0], X_test.shape[0]\n",
    "    X_train_df = pd.DataFrame()\n",
    "    X_test_df = pd.DataFrame()\n",
    "    cat_cols = list(set(X_test.columns.values.tolist()) - set(num_cols))\n",
    "    X_all_cat_df = pd.concat([X_train[cat_cols], X_test[cat_cols]])\n",
    "    \n",
    "    for col in num_cols:  \n",
    "        X_train_df[col] = X_train[col].fillna(X_train[col].median())\n",
    "        X_test_df[col] = X_test[col].fillna(X_test[col].median())\n",
    "    \n",
    "    scaler = StandardScaler()\n",
    "    X_num_all = pd.concat((X_train_df, X_test_df), axis=0)\n",
    "    scaler.fit(X_num_all)\n",
    "    X_train_arr = scaler.transform(X_train_df)\n",
    "    X_test_arr = scaler.transform(X_test_df)\n",
    "\n",
    "    for col in cat_cols:\n",
    "        X_all_cat_df[col] = X_all_cat_df[col].fillna('NA').astype(str)\n",
    "\n",
    "    encoder = OneHotEncoder(sparse=False)\n",
    "    X_all_cat = encoder.fit_transform(X_all_cat_df)  \n",
    "    X_train_cat = X_all_cat[:train_size]\n",
    "    X_test_cat = X_all_cat[train_size:]\n",
    "\n",
    "    X_train_sc = np.hstack((X_train_arr, X_train_cat))\n",
    "    X_test_sc = np.hstack((X_test_arr, X_test_cat))\n",
    "    \n",
    "    median_list = np.zeros(train_size + test_size)\n",
    "    for i in tqdm(range(train_size + test_size)):\n",
    "        obj = X_train_sc[i] if i < train_size else X_test_sc[i - train_size]\n",
    "        dst = []  #list: [object_index, distance_to_object]\n",
    "        for j in range(train_size):\n",
    "            if i!=j:\n",
    "                dst.append([j, distance.euclidean(obj, X_train_sc[j])])\n",
    "        dst.sort(key=lambda x: x[1])\n",
    "        idx = [x[0] for x in dst[:count]]  # Indexes of the closest objects\n",
    "        target_list = [target.values[x] for x in idx]\n",
    "        median_list[i] = np.mean(target_list)\n",
    "    return median_list[:train_size], median_list[train_size:]"
   ]
  },
  {
   "cell_type": "code",
   "execution_count": 1173,
   "metadata": {},
   "outputs": [
    {
     "name": "stderr",
     "output_type": "stream",
     "text": [
      "100%|██████████████████████████████████████| 1309/1309 [00:15<00:00, 85.14it/s]\n"
     ]
    }
   ],
   "source": [
    "a, b = get_mean_target(pd.concat((X_real, X_cat), axis=1), \\\n",
    "                       pd.concat((X_pred_real, X_pred_cat), axis=1), \\\n",
    "                       numeric_cols, y, 10)"
   ]
  },
  {
   "cell_type": "code",
   "execution_count": 1174,
   "metadata": {},
   "outputs": [
    {
     "data": {
      "text/plain": [
       "['Age',\n",
       " 'Pclass',\n",
       " 'SibSp',\n",
       " 'Fare',\n",
       " 'Male',\n",
       " 'CabinNumber',\n",
       " 'Relatives',\n",
       " 'Rel_in_13',\n",
       " 'MeanTarget']"
      ]
     },
     "execution_count": 1174,
     "metadata": {},
     "output_type": "execute_result"
    }
   ],
   "source": [
    "# Adding new feature: Mean target value of 10 closest objects\n",
    "X_real['MeanTarget'] = a\n",
    "X_pred_real['MeanTarget'] = b\n",
    "numeric_cols += ['MeanTarget']\n",
    "numeric_cols"
   ]
  },
  {
   "cell_type": "code",
   "execution_count": 1175,
   "metadata": {},
   "outputs": [
    {
     "name": "stdout",
     "output_type": "stream",
     "text": [
      "(891, 8) (418, 8) (1309, 8) 891 418\n",
      "(891, 1848) (418, 1848)\n"
     ]
    }
   ],
   "source": [
    "# Uniting categorical features for full dictionary\n",
    "X_cat_full = np.vstack((X_cat, X_pred_cat))\n",
    "X_size = X_cat.shape[0]\n",
    "X_pred_size = X_pred_cat.shape[0]\n",
    "print(X_cat.shape, X_pred_cat.shape, X_cat_full.shape, X_size, X_pred_size)\n",
    "\n",
    "X_cat_full_df = pd.DataFrame(X_cat_full)\n",
    "\n",
    "from sklearn.feature_extraction import DictVectorizer as DV\n",
    "encoder = DV(sparse=False)\n",
    "X_cat_full = encoder.fit_transform(X_cat_full_df.T.to_dict().values())\n",
    "\n",
    "X_cat_oh = X_cat_full[:X_size]\n",
    "X_pred_cat_oh = X_cat_full[-X_pred_size:]\n",
    "print(X_cat_oh.shape, X_pred_cat_oh.shape)"
   ]
  },
  {
   "cell_type": "code",
   "execution_count": 1176,
   "metadata": {},
   "outputs": [],
   "source": [
    "# Numerical features scaling\n",
    "from sklearn.preprocessing import StandardScaler\n",
    "scaler = StandardScaler()\n",
    "X_real_all = np.vstack((X_real, X_pred_real))\n",
    "scaler.fit(X_real_all)\n",
    "X_real = scaler.transform(X_real)\n",
    "X_pred_real = scaler.transform(X_pred_real)\n",
    "#X_real.shape"
   ]
  },
  {
   "cell_type": "code",
   "execution_count": 1177,
   "metadata": {},
   "outputs": [
    {
     "data": {
      "text/plain": [
       "(891, 1857)"
      ]
     },
     "execution_count": 1177,
     "metadata": {},
     "output_type": "execute_result"
    }
   ],
   "source": [
    "(X_train_real, X_test_real, y_train, y_test) = train_test_split(X_real, y, test_size=TEST_SIZE, random_state=RSTATE)\n",
    "(X_train_cat_oh, X_test_cat_oh) = train_test_split(X_cat_oh, test_size=TEST_SIZE, random_state=RSTATE)\n",
    "X_train_cat = np.hstack((X_train_real, X_train_cat_oh))\n",
    "X_test_cat = np.hstack((X_test_real, X_test_cat_oh))\n",
    "X_pred_cat = np.hstack((X_pred_real, X_pred_cat_oh))\n",
    "X_all = np.hstack((X_real, X_cat_oh))\n",
    "X_all.shape"
   ]
  },
  {
   "cell_type": "markdown",
   "metadata": {},
   "source": [
    "# Model Training and Fitting"
   ]
  },
  {
   "cell_type": "code",
   "execution_count": 1178,
   "metadata": {},
   "outputs": [],
   "source": [
    "from sklearn.linear_model import LogisticRegression"
   ]
  },
  {
   "cell_type": "code",
   "execution_count": 1179,
   "metadata": {},
   "outputs": [],
   "source": [
    "skf = StratifiedKFold(n_splits=CV, shuffle=True, random_state=RSTATE)\n",
    "param_grid = {'C': np.concatenate((np.arange(0.25, 5, 0.25), np.arange(5, 25)))}\n",
    "estimator = LogisticRegression()"
   ]
  },
  {
   "cell_type": "code",
   "execution_count": 1180,
   "metadata": {},
   "outputs": [
    {
     "data": {
      "text/plain": [
       "(623, 1857)"
      ]
     },
     "execution_count": 1180,
     "metadata": {},
     "output_type": "execute_result"
    }
   ],
   "source": [
    "X_train_cat.shape"
   ]
  },
  {
   "cell_type": "code",
   "execution_count": 1181,
   "metadata": {},
   "outputs": [
    {
     "name": "stdout",
     "output_type": "stream",
     "text": [
      "Fitting 7 folds for each of 39 candidates, totalling 273 fits\n"
     ]
    },
    {
     "name": "stderr",
     "output_type": "stream",
     "text": [
      "[Parallel(n_jobs=-1)]: Using backend LokyBackend with 12 concurrent workers.\n",
      "[Parallel(n_jobs=-1)]: Done  26 tasks      | elapsed:    4.4s\n",
      "[Parallel(n_jobs=-1)]: Done 176 tasks      | elapsed:   14.8s\n",
      "[Parallel(n_jobs=-1)]: Done 273 out of 273 | elapsed:   21.4s finished\n"
     ]
    },
    {
     "data": {
      "text/plain": [
       "GridSearchCV(cv=7, estimator=LogisticRegression(), n_jobs=-1,\n",
       "             param_grid={'C': array([ 0.25,  0.5 ,  0.75,  1.  ,  1.25,  1.5 ,  1.75,  2.  ,  2.25,\n",
       "        2.5 ,  2.75,  3.  ,  3.25,  3.5 ,  3.75,  4.  ,  4.25,  4.5 ,\n",
       "        4.75,  5.  ,  6.  ,  7.  ,  8.  ,  9.  , 10.  , 11.  , 12.  ,\n",
       "       13.  , 14.  , 15.  , 16.  , 17.  , 18.  , 19.  , 20.  , 21.  ,\n",
       "       22.  , 23.  , 24.  ])},\n",
       "             verbose=True)"
      ]
     },
     "execution_count": 1181,
     "metadata": {},
     "output_type": "execute_result"
    }
   ],
   "source": [
    "optimizer_lr = GridSearchCV(estimator, param_grid = param_grid, cv=CV, n_jobs=-1, verbose=True)\n",
    "optimizer_lr.fit(X_train_cat, y_train)"
   ]
  },
  {
   "cell_type": "code",
   "execution_count": 1182,
   "metadata": {},
   "outputs": [
    {
     "name": "stdout",
     "output_type": "stream",
     "text": [
      "{'C': 0.5}\n",
      "0.8410914927768861\n"
     ]
    }
   ],
   "source": [
    "print(optimizer_lr.best_params_)\n",
    "print(optimizer_lr.best_score_)\n",
    "model_rf = optimizer_lr.best_estimator_"
   ]
  },
  {
   "cell_type": "code",
   "execution_count": 1183,
   "metadata": {},
   "outputs": [
    {
     "data": {
      "text/plain": [
       "{'Age': array([-0.14184695]),\n",
       " 'Pclass': array([-0.49915076]),\n",
       " 'SibSp': array([-0.18587267]),\n",
       " 'Fare': array([0.02111362]),\n",
       " 'Male': array([-0.52626763]),\n",
       " 'CabinNumber': array([-0.08594104]),\n",
       " 'Relatives': array([-0.09444701]),\n",
       " 'Rel_in_13': array([-0.0111008]),\n",
       " 'MeanTarget': array([1.05285584])}"
      ]
     },
     "execution_count": 1183,
     "metadata": {},
     "output_type": "execute_result"
    }
   ],
   "source": [
    "# Feature Importance - Numerical\n",
    "dict(zip(numeric_cols, optimizer_lr.best_estimator_.coef_.T[:X_train_real.shape[1]]))"
   ]
  },
  {
   "cell_type": "code",
   "execution_count": 1184,
   "metadata": {},
   "outputs": [],
   "source": [
    "# Feature Importance - Categorical\n",
    "#dict(zip(encoder.feature_names_, optimizer_lr.best_estimator_.coef_.T[X_train_real.shape[1]:]))"
   ]
  },
  {
   "cell_type": "code",
   "execution_count": 1185,
   "metadata": {},
   "outputs": [
    {
     "name": "stdout",
     "output_type": "stream",
     "text": [
      "Accuracy Test LR =  0.8246268656716418\n",
      "AUC Test LR =  0.8616125848958031\n"
     ]
    }
   ],
   "source": [
    "# Predict for valid part\n",
    "X_test_cat = np.hstack((X_test_real, X_test_cat_oh))\n",
    "y_proba_test_pred_lr = model_rf.predict_proba(X_test_cat)\n",
    "y_test_pred_lr = model_rf.predict(X_test_cat)\n",
    "\n",
    "acc_lr = accuracy_score(y_test, y_test_pred_lr) \n",
    "auc_lr = roc_auc_score(y_test, y_proba_test_pred_lr[:,1]) \n",
    "\n",
    "print(\"Accuracy Test LR = \", acc_lr)\n",
    "print(\"AUC Test LR = \", auc_lr)"
   ]
  },
  {
   "cell_type": "code",
   "execution_count": 1186,
   "metadata": {},
   "outputs": [],
   "source": [
    "# Model training on all data\n",
    "logr = optimizer_lr.best_estimator_\n",
    "logr.fit(X_all, y)\n",
    "y_pred_lr = logr.predict(X_pred_cat)"
   ]
  },
  {
   "cell_type": "code",
   "execution_count": 1187,
   "metadata": {},
   "outputs": [
    {
     "name": "stdout",
     "output_type": "stream",
     "text": [
      "Your submission was successfully saved: my_submission_lr.csv\n",
      "Number of Survivers according to the model: 162\n",
      "Real number of Survivers: 158\n",
      "Your submission was successfully saved: my_submission_lr_tuned.csv\n"
     ]
    }
   ],
   "source": [
    "submit(y_pred_lr, 'my_submission_lr.csv')\n",
    "print(\"Number of Survivers according to the model: {}\".format(sum(y_pred_lr)))\n",
    "print(\"Real number of Survivers: {}\".format(n_surv))\n",
    "submit(tune_pred(logr.predict_proba(X_pred_cat)[:, 1]), 'my_submission_lr_tuned.csv')"
   ]
  },
  {
   "cell_type": "markdown",
   "metadata": {},
   "source": [
    "# Model 2: RandomForestClassifier"
   ]
  },
  {
   "cell_type": "markdown",
   "metadata": {},
   "source": [
    "## Feature Preprocessing for RandomForest"
   ]
  },
  {
   "cell_type": "code",
   "execution_count": 1188,
   "metadata": {},
   "outputs": [],
   "source": [
    "X_rf, X_pred_rf, y = get_data()"
   ]
  },
  {
   "cell_type": "code",
   "execution_count": 1189,
   "metadata": {},
   "outputs": [],
   "source": [
    "X_size = X_rf.shape[0]\n",
    "X_rf.drop(['Name'], axis=1, inplace=True)\n",
    "X_pred_rf.drop(['Name'], axis=1, inplace=True)"
   ]
  },
  {
   "cell_type": "code",
   "execution_count": 1190,
   "metadata": {},
   "outputs": [],
   "source": [
    "X_ftmp = pd.concat((X_rf, X_pred_rf))\n",
    "uniq_tickets = list(X_ftmp['Ticket'].value_counts()[X_ftmp['Ticket'].value_counts()==1].index)\n",
    "uniq_secname = list(X_ftmp['SecondName'].value_counts()[X_ftmp['SecondName'].value_counts()==1].index)"
   ]
  },
  {
   "cell_type": "code",
   "execution_count": 1191,
   "metadata": {},
   "outputs": [],
   "source": [
    "age_dict = pd.DataFrame(pd.concat([X_rf, X_pred_rf]).groupby('AppName')['Age'].median()).squeeze().to_dict()\n",
    "ticket_dict = pd.DataFrame(pd.concat([X_rf, X_pred_rf]).groupby('Ticket')['Ticket'].count()).squeeze().to_dict()\n",
    "\n",
    "X_rf['Age'] = X_rf['Age'].fillna(X_rf['AppName'].map(age_dict))\n",
    "X_pred_rf['Age'] = X_pred_rf['Age'].fillna(X_pred_rf['AppName'].map(age_dict))\n",
    "\n",
    "X_rf['NTickets'] = X_rf['Ticket'].map(ticket_dict)\n",
    "X_pred_rf['NTickets'] = X_pred_rf['Ticket'].map(ticket_dict)\n",
    "\n",
    "X_rf['UniqTicket'] = X_rf['Ticket'].isin(uniq_tickets).astype(int)\n",
    "X_pred_rf['UniqTicket'] = X_pred_rf['Ticket'].isin(uniq_tickets).astype(int)\n",
    "X_rf['UniqSecName'] = X_rf['SecondName'].isin(uniq_secname).astype(int)\n",
    "X_pred_rf['UniqSecName'] = X_pred_rf['SecondName'].isin(uniq_secname).astype(int)\n",
    "X_rf['Ticket'] = X_rf['Ticket'] * (1 - X_rf['UniqTicket'])\n",
    "X_pred_rf['Ticket'] = X_pred_rf['Ticket'] * (1 - X_pred_rf['UniqTicket'])\n",
    "X_rf['SecondName'] = X_rf['SecondName'] * (1 - X_rf['UniqSecName'])\n",
    "X_pred_rf['SecondName'] = X_pred_rf['SecondName'] * (1 - X_pred_rf['UniqSecName'])\n",
    "X_rf.drop(['UniqSecName', 'UniqTicket'], axis=1, inplace = True)\n",
    "X_pred_rf.drop(['UniqSecName', 'UniqTicket'], axis=1, inplace = True)\n",
    "\n",
    "X_rf['ClassCabNum'] = X_rf['Pclass'].astype(str) + '-' + X_rf['CabinNumber'].astype(str)\n",
    "X_pred_rf['ClassCabNum'] = X_pred_rf['Pclass'].astype(str) + '-' + X_pred_rf['CabinNumber'].astype(str)\n",
    "\n",
    "X_rf['SexRel'] = X_rf['Sex'].astype(str) + '-' + X_rf['Relatives'].astype(str)\n",
    "X_pred_rf['SexRel'] = X_pred_rf['Sex'].astype(str) + '-' + X_pred_rf['Relatives'].astype(str)\n",
    "\n",
    "X_rf['ClassSex'] = X_rf['Pclass'].astype(str) + '-' + X_rf['Sex'].astype(str)\n",
    "X_pred_rf['ClassSex'] = X_pred_rf['Pclass'].astype(str) + '-' + X_pred_rf['Sex'].astype(str)"
   ]
  },
  {
   "cell_type": "code",
   "execution_count": 1192,
   "metadata": {},
   "outputs": [
    {
     "name": "stdout",
     "output_type": "stream",
     "text": [
      "Numeric columns:  ['Pclass', 'Age', 'SibSp', 'Parch', 'Fare', 'Relatives', 'CabinNumber', 'CabinEven', 'NTickets']\n",
      "Categorical columns:  ['Ticket', 'Cabin', 'CabinLetter', 'SecondName', 'Sex', 'ClassSex', 'SexRel', 'AppName', 'Embarked', 'ClassCabNum']\n"
     ]
    }
   ],
   "source": [
    "rf_num_cols = list(X_rf.dtypes[X_rf.dtypes!='object'].index)\n",
    "rf_cat_cols = list(set(X_rf.columns) - set(rf_num_cols))\n",
    "print(\"Numeric columns: \", rf_num_cols)\n",
    "print(\"Categorical columns: \", rf_cat_cols)"
   ]
  },
  {
   "cell_type": "code",
   "execution_count": 1193,
   "metadata": {},
   "outputs": [],
   "source": [
    "X_cat_full_rf = pd.concat([X_rf[rf_cat_cols], X_pred_rf[rf_cat_cols]])\n",
    "X_num_full_rf = pd.concat([X_rf[rf_num_cols], X_pred_rf[rf_num_cols]])"
   ]
  },
  {
   "cell_type": "code",
   "execution_count": 1194,
   "metadata": {},
   "outputs": [
    {
     "data": {
      "text/plain": [
       "Ticket         0\n",
       "Cabin          0\n",
       "CabinLetter    0\n",
       "SecondName     0\n",
       "Sex            0\n",
       "ClassSex       0\n",
       "SexRel         0\n",
       "AppName        0\n",
       "Embarked       0\n",
       "ClassCabNum    0\n",
       "dtype: int64"
      ]
     },
     "execution_count": 1194,
     "metadata": {},
     "output_type": "execute_result"
    }
   ],
   "source": [
    "X_cat_full_rf = X_cat_full_rf.fillna('NA').astype(str)\n",
    "X_cat_full_rf.isna().sum()"
   ]
  },
  {
   "cell_type": "code",
   "execution_count": 1195,
   "metadata": {},
   "outputs": [],
   "source": [
    "from sklearn.preprocessing import LabelEncoder\n",
    "le = LabelEncoder()\n",
    "for col in X_cat_full_rf.columns:\n",
    "    X_cat_full_rf[col] = le.fit_transform(X_cat_full_rf[col])"
   ]
  },
  {
   "cell_type": "code",
   "execution_count": 1196,
   "metadata": {},
   "outputs": [
    {
     "data": {
      "text/plain": [
       "Pclass         0\n",
       "Age            0\n",
       "SibSp          0\n",
       "Parch          0\n",
       "Fare           0\n",
       "Relatives      0\n",
       "CabinNumber    0\n",
       "CabinEven      0\n",
       "NTickets       0\n",
       "dtype: int64"
      ]
     },
     "execution_count": 1196,
     "metadata": {},
     "output_type": "execute_result"
    }
   ],
   "source": [
    "X_num_full_rf = X_num_full_rf.fillna(-1)\n",
    "X_num_full_rf.isna().sum()"
   ]
  },
  {
   "cell_type": "code",
   "execution_count": 1197,
   "metadata": {},
   "outputs": [
    {
     "data": {
      "text/plain": [
       "((891, 19), (418, 19))"
      ]
     },
     "execution_count": 1197,
     "metadata": {},
     "output_type": "execute_result"
    }
   ],
   "source": [
    "X_rf = np.hstack((X_num_full_rf[:X_size], X_cat_full_rf[:X_size]))\n",
    "X_pred_rf = np.hstack((X_num_full_rf[X_size:], X_cat_full_rf[X_size:]))\n",
    "X_rf.shape, X_pred_rf.shape"
   ]
  },
  {
   "cell_type": "code",
   "execution_count": 1198,
   "metadata": {},
   "outputs": [],
   "source": [
    "(X_train_rf, X_test_rf, y_train_rf, y_test_rf) = train_test_split(X_rf, y, test_size=TEST_SIZE, random_state=RSTATE)"
   ]
  },
  {
   "cell_type": "markdown",
   "metadata": {},
   "source": [
    "## Model Training and Fitting"
   ]
  },
  {
   "cell_type": "code",
   "execution_count": 1199,
   "metadata": {},
   "outputs": [],
   "source": [
    "from sklearn.model_selection import RandomizedSearchCV, cross_val_score\n",
    "from sklearn.ensemble import RandomForestClassifier"
   ]
  },
  {
   "cell_type": "code",
   "execution_count": 1200,
   "metadata": {},
   "outputs": [],
   "source": [
    "param_grid = {'max_depth' : np.concatenate((np.arange(5, 12), np.arange(12, 25, 2), np.arange(25, 150, 5))),\n",
    "              'max_features' : range(4, X_rf.shape[1]-3),\n",
    "              'min_samples_leaf' : np.concatenate((np.arange(1, 12), np.arange(12, 25, 2))),\n",
    "               'criterion' : [\"gini\", \"entropy\"]\n",
    "             }"
   ]
  },
  {
   "cell_type": "code",
   "execution_count": 1201,
   "metadata": {},
   "outputs": [
    {
     "name": "stdout",
     "output_type": "stream",
     "text": [
      "Fitting 7 folds for each of 250 candidates, totalling 1750 fits\n"
     ]
    },
    {
     "name": "stderr",
     "output_type": "stream",
     "text": [
      "[Parallel(n_jobs=-1)]: Using backend LokyBackend with 12 concurrent workers.\n",
      "[Parallel(n_jobs=-1)]: Done  26 tasks      | elapsed:    1.1s\n",
      "[Parallel(n_jobs=-1)]: Done 176 tasks      | elapsed:    5.4s\n",
      "[Parallel(n_jobs=-1)]: Done 426 tasks      | elapsed:   13.5s\n",
      "[Parallel(n_jobs=-1)]: Done 776 tasks      | elapsed:   24.3s\n",
      "[Parallel(n_jobs=-1)]: Done 1226 tasks      | elapsed:   38.5s\n",
      "[Parallel(n_jobs=-1)]: Done 1750 out of 1750 | elapsed:   55.3s finished\n"
     ]
    },
    {
     "data": {
      "text/plain": [
       "RandomizedSearchCV(cv=7,\n",
       "                   estimator=RandomForestClassifier(n_estimators=150,\n",
       "                                                    random_state=12),\n",
       "                   n_iter=250, n_jobs=-1,\n",
       "                   param_distributions={'criterion': ['gini', 'entropy'],\n",
       "                                        'max_depth': array([  5,   6,   7,   8,   9,  10,  11,  12,  14,  16,  18,  20,  22,\n",
       "        24,  25,  30,  35,  40,  45,  50,  55,  60,  65,  70,  75,  80,\n",
       "        85,  90,  95, 100, 105, 110, 115, 120, 125, 130, 135, 140, 145]),\n",
       "                                        'max_features': range(4, 16),\n",
       "                                        'min_samples_leaf': array([ 1,  2,  3,  4,  5,  6,  7,  8,  9, 10, 11, 12, 14, 16, 18, 20, 22,\n",
       "       24])},\n",
       "                   verbose=True)"
      ]
     },
     "execution_count": 1201,
     "metadata": {},
     "output_type": "execute_result"
    }
   ],
   "source": [
    "rand_grid = RandomizedSearchCV(RandomForestClassifier(random_state=RSTATE, n_estimators=150), \\\n",
    "                               param_distributions=param_grid, cv=CV, verbose=True, n_jobs=-1, n_iter=250)\n",
    "rand_grid.fit(X_train_rf, y_train_rf)"
   ]
  },
  {
   "cell_type": "code",
   "execution_count": 1202,
   "metadata": {},
   "outputs": [
    {
     "name": "stdout",
     "output_type": "stream",
     "text": [
      "{'min_samples_leaf': 2, 'max_features': 6, 'max_depth': 90, 'criterion': 'entropy'}\n",
      "0.8571428571428571\n"
     ]
    }
   ],
   "source": [
    "print(rand_grid.best_params_)\n",
    "print(rand_grid.best_score_)"
   ]
  },
  {
   "cell_type": "code",
   "execution_count": 1203,
   "metadata": {},
   "outputs": [
    {
     "data": {
      "text/plain": [
       "{'SexRel': 0.17370199152284282,\n",
       " 'Age': 0.11937096549774942,\n",
       " 'Fare': 0.11564790854306331,\n",
       " 'Sex': 0.09877393697639515,\n",
       " 'ClassSex': 0.08341288380771904,\n",
       " 'SecondName': 0.057590132104460894,\n",
       " 'ClassCabNum': 0.05027717832087694,\n",
       " 'AppName': 0.05018926830501461,\n",
       " 'Ticket': 0.03516337417675718,\n",
       " 'NTickets': 0.03496360489252054,\n",
       " 'Pclass': 0.03244781866418719,\n",
       " 'CabinNumber': 0.029338231745492934,\n",
       " 'Embarked': 0.025378656310242536,\n",
       " 'Relatives': 0.023642388624654745,\n",
       " 'Cabin': 0.022559421768580917,\n",
       " 'CabinLetter': 0.01842911739739787,\n",
       " 'SibSp': 0.013877372102380608,\n",
       " 'CabinEven': 0.008599464282341237,\n",
       " 'Parch': 0.006636284957322034}"
      ]
     },
     "execution_count": 1203,
     "metadata": {},
     "output_type": "execute_result"
    }
   ],
   "source": [
    "all_cols = list(rf_num_cols + rf_cat_cols)\n",
    "feat_imp = dict(zip(all_cols, rand_grid.best_estimator_.feature_importances_))\n",
    "{k: v for k, v in sorted(feat_imp.items(), key=lambda item: item[1], reverse=True)}"
   ]
  },
  {
   "cell_type": "code",
   "execution_count": 1204,
   "metadata": {},
   "outputs": [
    {
     "name": "stdout",
     "output_type": "stream",
     "text": [
      "Accuracy Test RF =  0.7985074626865671\n",
      "AUC Test RF =  0.8427468508736286\n"
     ]
    }
   ],
   "source": [
    "# Predict for valid_data\n",
    "y_proba_test_pred_rf = rand_grid.predict_proba(X_test_rf)\n",
    "y_test_pred_rf = rand_grid.predict(X_test_rf)\n",
    "\n",
    "acc_rf = accuracy_score(y_test_rf, y_test_pred_rf) \n",
    "auc_rf = roc_auc_score(y_test_rf, y_proba_test_pred_rf[:,1])\n",
    "\n",
    "print(\"Accuracy Test RF = \", acc_rf)\n",
    "print(\"AUC Test RF = \", auc_rf)"
   ]
  },
  {
   "cell_type": "code",
   "execution_count": 1205,
   "metadata": {},
   "outputs": [],
   "source": [
    "# Model Training on all data\n",
    "rf = rand_grid.best_estimator_\n",
    "rf.fit(X_rf, y)\n",
    "y_pred_rf = rf.predict(X_pred_rf)"
   ]
  },
  {
   "cell_type": "code",
   "execution_count": 1206,
   "metadata": {},
   "outputs": [
    {
     "name": "stdout",
     "output_type": "stream",
     "text": [
      "Your submission was successfully saved: my_submission_rf.csv\n",
      "Number of Survivers according to the model: 160\n",
      "Real number of Survivers: 158\n",
      "Your submission was successfully saved: my_submission_rf_tuned.csv\n"
     ]
    }
   ],
   "source": [
    "submit(y_pred_rf, 'my_submission_rf.csv')\n",
    "print(\"Number of Survivers according to the model: {}\".format(sum(y_pred_rf)))\n",
    "print(\"Real number of Survivers: {}\".format(n_surv))\n",
    "submit(tune_pred(rf.predict_proba(X_pred_rf)[:, 1]), 'my_submission_rf_tuned.csv')"
   ]
  },
  {
   "cell_type": "markdown",
   "metadata": {},
   "source": [
    "# Model 3: LightGBM"
   ]
  },
  {
   "cell_type": "code",
   "execution_count": 1207,
   "metadata": {},
   "outputs": [],
   "source": [
    "from lightgbm import LGBMClassifier"
   ]
  },
  {
   "cell_type": "code",
   "execution_count": 1208,
   "metadata": {},
   "outputs": [
    {
     "name": "stdout",
     "output_type": "stream",
     "text": [
      "(891, 19) (418, 19)\n"
     ]
    }
   ],
   "source": [
    "#X_gbm, X_pred_gbm, y = get_data()\n",
    "X_gbm = X_rf.copy()\n",
    "X_pred_gbm = X_pred_rf.copy()\n",
    "print(X_gbm.shape, X_pred_gbm.shape)\n",
    "(X_train_gbm, X_test_gbm, y_train_gbm, y_test_gbm) = train_test_split(X_gbm, y, test_size=TEST_SIZE, random_state=RSTATE)"
   ]
  },
  {
   "cell_type": "code",
   "execution_count": 1209,
   "metadata": {},
   "outputs": [],
   "source": [
    "lgb_clf = LGBMClassifier(n_estimators=200, random_state=RSTATE)\n",
    "param_grid = {'num_leaves': [7, 15, 31, 45, 63, 85, 127, 180, 255, 350, 511], \n",
    "              'max_depth': range(3, 11),\n",
    "              'learning_rate': np.logspace(-5, 0, 10)}\n",
    "gbm_grid = RandomizedSearchCV(estimator=lgb_clf, param_distributions=param_grid, cv=CV, n_iter=300, verbose=True, n_jobs=-1)"
   ]
  },
  {
   "cell_type": "code",
   "execution_count": 1210,
   "metadata": {},
   "outputs": [
    {
     "name": "stdout",
     "output_type": "stream",
     "text": [
      "Fitting 7 folds for each of 300 candidates, totalling 2100 fits\n"
     ]
    },
    {
     "name": "stderr",
     "output_type": "stream",
     "text": [
      "[Parallel(n_jobs=-1)]: Using backend LokyBackend with 12 concurrent workers.\n",
      "[Parallel(n_jobs=-1)]: Done  26 tasks      | elapsed:    1.2s\n",
      "[Parallel(n_jobs=-1)]: Done 440 tasks      | elapsed:    3.6s\n",
      "[Parallel(n_jobs=-1)]: Done 1440 tasks      | elapsed:    8.9s\n",
      "[Parallel(n_jobs=-1)]: Done 2077 out of 2100 | elapsed:   12.7s remaining:    0.0s\n",
      "[Parallel(n_jobs=-1)]: Done 2100 out of 2100 | elapsed:   12.8s finished\n"
     ]
    },
    {
     "data": {
      "text/plain": [
       "RandomizedSearchCV(cv=7,\n",
       "                   estimator=LGBMClassifier(n_estimators=200, random_state=12),\n",
       "                   n_iter=300, n_jobs=-1,\n",
       "                   param_distributions={'learning_rate': array([1.00000000e-05, 3.59381366e-05, 1.29154967e-04, 4.64158883e-04,\n",
       "       1.66810054e-03, 5.99484250e-03, 2.15443469e-02, 7.74263683e-02,\n",
       "       2.78255940e-01, 1.00000000e+00]),\n",
       "                                        'max_depth': range(3, 11),\n",
       "                                        'num_leaves': [7, 15, 31, 45, 63, 85,\n",
       "                                                       127, 180, 255, 350,\n",
       "                                                       511]},\n",
       "                   verbose=True)"
      ]
     },
     "execution_count": 1210,
     "metadata": {},
     "output_type": "execute_result"
    }
   ],
   "source": [
    "gbm_grid.fit(X_train_gbm, y_train_gbm)"
   ]
  },
  {
   "cell_type": "code",
   "execution_count": 1211,
   "metadata": {},
   "outputs": [
    {
     "data": {
      "text/plain": [
       "({'num_leaves': 255, 'max_depth': 5, 'learning_rate': 0.021544346900318846},\n",
       " 0.8523274478330658)"
      ]
     },
     "execution_count": 1211,
     "metadata": {},
     "output_type": "execute_result"
    }
   ],
   "source": [
    "gbm_grid.best_params_, gbm_grid.best_score_"
   ]
  },
  {
   "cell_type": "code",
   "execution_count": 1212,
   "metadata": {},
   "outputs": [
    {
     "data": {
      "text/plain": [
       "{'Age': 541,\n",
       " 'Fare': 434,\n",
       " 'Ticket': 204,\n",
       " 'ClassCabNum': 201,\n",
       " 'SecondName': 195,\n",
       " 'NTickets': 150,\n",
       " 'SexRel': 98,\n",
       " 'Cabin': 78,\n",
       " 'CabinNumber': 77,\n",
       " 'Embarked': 75,\n",
       " 'Sex': 74,\n",
       " 'AppName': 73,\n",
       " 'Relatives': 49,\n",
       " 'ClassSex': 38,\n",
       " 'CabinEven': 37,\n",
       " 'SibSp': 21,\n",
       " 'Pclass': 19,\n",
       " 'CabinLetter': 17,\n",
       " 'Parch': 7}"
      ]
     },
     "execution_count": 1212,
     "metadata": {},
     "output_type": "execute_result"
    }
   ],
   "source": [
    "gbm_model = gbm_grid.best_estimator_\n",
    "gbm_model.feature_importances_\n",
    "feat_imp = dict(zip(all_cols, gbm_model.feature_importances_))\n",
    "{k: v for k, v in sorted(feat_imp.items(), key=lambda item: item[1], reverse=True)}"
   ]
  },
  {
   "cell_type": "code",
   "execution_count": 1213,
   "metadata": {},
   "outputs": [],
   "source": [
    "# Predict for valid_data\n",
    "y_proba_test_pred_gbm = gbm_grid.predict_proba(X_test_gbm)\n",
    "y_test_pred_gbm = gbm_grid.predict(X_test_gbm)"
   ]
  },
  {
   "cell_type": "code",
   "execution_count": 1214,
   "metadata": {},
   "outputs": [
    {
     "name": "stdout",
     "output_type": "stream",
     "text": [
      "Accuracy Test GBM =  0.7985074626865671\n",
      "AUC Test GBM =  0.8573750507923608\n"
     ]
    }
   ],
   "source": [
    "acc_gbm = accuracy_score(y_test_gbm, y_test_pred_gbm) \n",
    "auc_gbm = roc_auc_score(y_test_gbm, y_proba_test_pred_gbm[:,1])\n",
    "\n",
    "print(\"Accuracy Test GBM = \", acc_gbm)\n",
    "print(\"AUC Test GBM = \", auc_gbm)"
   ]
  },
  {
   "cell_type": "code",
   "execution_count": 1215,
   "metadata": {},
   "outputs": [],
   "source": [
    "# Model Training on all data\n",
    "gbm = gbm_grid.best_estimator_\n",
    "gbm.fit(X_gbm, y)\n",
    "y_pred_gbm = gbm.predict(X_pred_gbm)"
   ]
  },
  {
   "cell_type": "code",
   "execution_count": 1216,
   "metadata": {},
   "outputs": [
    {
     "name": "stdout",
     "output_type": "stream",
     "text": [
      "Your submission was successfully saved: my_submission_gbm.csv\n",
      "Number of Survivers according to the model: 153\n",
      "Real number of Survivers: 158\n",
      "Your submission was successfully saved: my_submission_gbm_tuned.csv\n"
     ]
    }
   ],
   "source": [
    "submit(y_pred_gbm, 'my_submission_gbm.csv')\n",
    "print(\"Number of Survivers according to the model: {}\".format(sum(y_pred_gbm)))\n",
    "print(\"Real number of Survivers: {}\".format(n_surv))\n",
    "submit(tune_pred(gbm.predict_proba(X_pred_gbm)[:, 1]), 'my_submission_gbm_tuned.csv')"
   ]
  },
  {
   "cell_type": "markdown",
   "metadata": {},
   "source": [
    "# Model 4: CatBoost"
   ]
  },
  {
   "cell_type": "code",
   "execution_count": 1217,
   "metadata": {},
   "outputs": [],
   "source": [
    "from catboost import CatBoostClassifier"
   ]
  },
  {
   "cell_type": "code",
   "execution_count": 1218,
   "metadata": {},
   "outputs": [
    {
     "data": {
      "text/plain": [
       "((891, 16), (418, 16))"
      ]
     },
     "execution_count": 1218,
     "metadata": {},
     "output_type": "execute_result"
    }
   ],
   "source": [
    "X_cb, X_pred_cb, y = get_data()\n",
    "X_cb.shape, X_pred_cb.shape"
   ]
  },
  {
   "cell_type": "code",
   "execution_count": 1219,
   "metadata": {},
   "outputs": [],
   "source": [
    "LowBand = 16\n",
    "HighBand = 60\n",
    "def age_level(age):\n",
    "    if age < LowBand:\n",
    "        return 'young'\n",
    "    return 'senior' if age > HighBand else 'middle'"
   ]
  },
  {
   "cell_type": "code",
   "execution_count": 1220,
   "metadata": {},
   "outputs": [
    {
     "data": {
      "text/plain": [
       "((891, 16), (418, 16))"
      ]
     },
     "execution_count": 1220,
     "metadata": {},
     "output_type": "execute_result"
    }
   ],
   "source": [
    "X_cb['Sex'] = (X_cb['Sex'] == 'male').astype(int)\n",
    "X_pred_cb['Sex'] = (X_pred_cb['Sex'] == 'male').astype(int)\n",
    "\n",
    "X_cb['ClassCabEven'] = X_cb['Pclass'].astype(str) + ' - ' + X_cb['CabinEven'].astype(str)\n",
    "X_pred_cb['ClassCabEven'] = X_pred_cb['Pclass'].astype(str) + ' - ' + X_pred_cb['CabinEven'].astype(str)\n",
    "\n",
    "X_cb['SexAgeLevel'] = X_cb['Sex'].astype(str) + '-' + X_cb['Age'].apply(age_level).astype(str)\n",
    "X_pred_cb['SexAgeLevel'] = X_pred_cb['Sex'].astype(str) + '-' + X_pred_cb['Age'].apply(age_level).astype(str)\n",
    "\n",
    "X_cb.drop(['Name', 'Cabin'], axis=1, inplace=True)\n",
    "X_pred_cb.drop(['Name', 'Cabin'], axis=1, inplace=True)\n",
    "\n",
    "X_cb = X_cb.fillna('NA').astype(str)\n",
    "X_pred_cb = X_pred_cb.fillna('NA').astype(str)\n",
    "\n",
    "X_cb['Sex'] = (X_cb['Sex'] == 'male').astype(int)\n",
    "X_pred_cb['Sex'] = (X_pred_cb['Sex'] == 'male').astype(int)\n",
    "\n",
    "X_cb.shape, X_pred_cb.shape"
   ]
  },
  {
   "cell_type": "code",
   "execution_count": 1221,
   "metadata": {},
   "outputs": [
    {
     "data": {
      "text/plain": [
       "(668, 16)"
      ]
     },
     "execution_count": 1221,
     "metadata": {},
     "output_type": "execute_result"
    }
   ],
   "source": [
    "categ_feat_idx = [5, 7, 9, 10, 12, 13, 14, 15]\n",
    "\n",
    "X_in = X_cb\n",
    "X_pred = X_pred_cb\n",
    "\n",
    "X_train_part, X_valid, y_train_part, y_valid = train_test_split(X_in, y, test_size=0.25, random_state=RSTATE)\n",
    "X_train_part.shape"
   ]
  },
  {
   "cell_type": "code",
   "execution_count": 1222,
   "metadata": {},
   "outputs": [
    {
     "data": {
      "application/vnd.jupyter.widget-view+json": {
       "model_id": "4da21375a8834b47acb984ca78bff918",
       "version_major": 2,
       "version_minor": 0
      },
      "text/plain": [
       "MetricVisualizer(layout=Layout(align_self='stretch', height='500px'))"
      ]
     },
     "metadata": {},
     "output_type": "display_data"
    },
    {
     "name": "stdout",
     "output_type": "stream",
     "text": [
      "Depth=3. Accuracy=0.8475336322869955. Logloss=0.38523729528456185. Best iteration=97\n"
     ]
    },
    {
     "data": {
      "application/vnd.jupyter.widget-view+json": {
       "model_id": "1b28b0e62e9644579b97fb980ecdce13",
       "version_major": 2,
       "version_minor": 0
      },
      "text/plain": [
       "MetricVisualizer(layout=Layout(align_self='stretch', height='500px'))"
      ]
     },
     "metadata": {},
     "output_type": "display_data"
    },
    {
     "name": "stdout",
     "output_type": "stream",
     "text": [
      "Depth=4. Accuracy=0.8475336322869955. Logloss=0.37680414521008093. Best iteration=112\n"
     ]
    }
   ],
   "source": [
    "\n",
    "for depth in range(3, 5):\n",
    "    model_ctb = CatBoostClassifier(\n",
    "        iterations=500,\n",
    "        random_seed=RSTATE,\n",
    "        learning_rate=0.1,\n",
    "        depth=depth,\n",
    "        custom_loss=['Accuracy']\n",
    "    )\n",
    "    model_ctb.fit(\n",
    "    X_train_part, y_train_part,\n",
    "    cat_features=categ_feat_idx,\n",
    "    eval_set=(X_valid, y_valid),\n",
    "    logging_level='Silent',\n",
    "    plot=True\n",
    "    )\n",
    "    print(\"Depth={}. Accuracy={}. Logloss={}. Best iteration={}\".format(depth, \\\n",
    "                                        model_ctb.best_score_['validation']['Accuracy'], \\\n",
    "                                        model_ctb.best_score_['validation']['Logloss'],\n",
    "                                        model_ctb.best_iteration_\n",
    "                                                                       ))\n"
   ]
  },
  {
   "cell_type": "code",
   "execution_count": 1224,
   "metadata": {},
   "outputs": [
    {
     "data": {
      "application/vnd.jupyter.widget-view+json": {
       "model_id": "b8db1900b1634e27ad0f2c0f4c55c6e1",
       "version_major": 2,
       "version_minor": 0
      },
      "text/plain": [
       "MetricVisualizer(layout=Layout(align_self='stretch', height='500px'))"
      ]
     },
     "metadata": {},
     "output_type": "display_data"
    },
    {
     "name": "stdout",
     "output_type": "stream",
     "text": [
      "Accuracy=0.8475336322869955. Logloss=0.38523729528456185. Best iteration=97\n"
     ]
    }
   ],
   "source": [
    "ctb = CatBoostClassifier(\n",
    "        iterations=200,\n",
    "        random_seed=RSTATE,\n",
    "        learning_rate=0.1, #0.1\n",
    "        depth=3, #3\n",
    "        custom_loss=['Accuracy']\n",
    "    )\n",
    "ctb.fit(\n",
    "    X_train_part, y_train_part,\n",
    "    cat_features=categ_feat_idx,\n",
    "    eval_set=(X_valid, y_valid),\n",
    "    logging_level='Silent',\n",
    "    plot=True\n",
    "    )\n",
    "print(\"Accuracy={}. Logloss={}. Best iteration={}\".format( ctb.best_score_['validation']['Accuracy'], \\\n",
    "                                        ctb.best_score_['validation']['Logloss'],\n",
    "                                        ctb.best_iteration_  ))"
   ]
  },
  {
   "cell_type": "code",
   "execution_count": 1225,
   "metadata": {},
   "outputs": [
    {
     "name": "stdout",
     "output_type": "stream",
     "text": [
      "Accuracy Test CTB =  0.8295964125560538\n",
      "AUC Test CTB =  0.8915219189412737\n"
     ]
    }
   ],
   "source": [
    "ctb_valid_pred = ctb.predict_proba(X_valid)\n",
    "ctb_valid_y = ctb.predict(X_valid)\n",
    "\n",
    "acc_ctb = accuracy_score(y_valid, ctb_valid_y) \n",
    "auc_ctb = roc_auc_score(y_valid, ctb_valid_pred[:, 1]) \n",
    "\n",
    "print(\"Accuracy Test CTB = \", acc_ctb)\n",
    "print(\"AUC Test CTB = \", auc_ctb)"
   ]
  },
  {
   "cell_type": "code",
   "execution_count": 1226,
   "metadata": {},
   "outputs": [
    {
     "data": {
      "application/vnd.jupyter.widget-view+json": {
       "model_id": "ea8cab4f2f91438cbde06974ef2d3428",
       "version_major": 2,
       "version_minor": 0
      },
      "text/plain": [
       "MetricVisualizer(layout=Layout(align_self='stretch', height='500px'))"
      ]
     },
     "metadata": {},
     "output_type": "display_data"
    },
    {
     "name": "stdout",
     "output_type": "stream",
     "text": [
      "0:\tlearn: 0.6378550\ttotal: 10.8ms\tremaining: 2.14s\n",
      "50:\tlearn: 0.3749338\ttotal: 782ms\tremaining: 2.28s\n",
      "100:\tlearn: 0.3516059\ttotal: 1.55s\tremaining: 1.52s\n",
      "150:\tlearn: 0.3305716\ttotal: 2.3s\tremaining: 747ms\n",
      "199:\tlearn: 0.3109779\ttotal: 3.06s\tremaining: 0us\n"
     ]
    }
   ],
   "source": [
    "ctb.fit(X_in, y, cat_features=categ_feat_idx, plot=True, verbose=50);"
   ]
  },
  {
   "cell_type": "code",
   "execution_count": 1227,
   "metadata": {},
   "outputs": [
    {
     "data": {
      "text/plain": [
       "{'AppName': 33.03198752561482,\n",
       " 'SexAgeLevel': 12.361191265760839,\n",
       " 'ClassCabEven': 9.715607230495367,\n",
       " 'Ticket': 6.394771470452176,\n",
       " 'SecondName': 6.255884924734133,\n",
       " 'Fare': 6.124046190086778,\n",
       " 'Age': 5.558775904596582,\n",
       " 'Embarked': 4.162313352174761,\n",
       " 'CabinEven': 3.1626581422798057,\n",
       " 'CabinLetter': 3.118632683426905,\n",
       " 'CabinNumber': 2.871661169973431,\n",
       " 'Pclass': 2.834432649506344,\n",
       " 'Relatives': 2.5147368460845105,\n",
       " 'SibSp': 1.887596241913273,\n",
       " 'Parch': 0.005704402900295597,\n",
       " 'Sex': 0.0}"
      ]
     },
     "execution_count": 1227,
     "metadata": {},
     "output_type": "execute_result"
    }
   ],
   "source": [
    "feat_imp = dict(zip(X_cb.columns, ctb.get_feature_importance()))\n",
    "{k: v for k, v in sorted(feat_imp.items(), key=lambda item: item[1], reverse=True)}"
   ]
  },
  {
   "cell_type": "code",
   "execution_count": 1228,
   "metadata": {},
   "outputs": [],
   "source": [
    "ctb_prob = ctb.predict_proba(X_pred)[:, 1]\n",
    "ctb_y = ctb.predict(X_pred)"
   ]
  },
  {
   "cell_type": "code",
   "execution_count": 1229,
   "metadata": {},
   "outputs": [
    {
     "name": "stdout",
     "output_type": "stream",
     "text": [
      "Your submission was successfully saved: my_submission_ctb.csv\n",
      "Number of Survivers according to the model: 151\n",
      "Real number of Survivers: 158\n",
      "Your submission was successfully saved: my_submission_ctb_tuned.csv\n"
     ]
    }
   ],
   "source": [
    "submit(ctb_y, 'my_submission_ctb.csv')\n",
    "print(\"Number of Survivers according to the model: {}\".format(sum(ctb_y)))\n",
    "print(\"Real number of Survivers: {}\".format(n_surv))\n",
    "submit(tune_pred(ctb_prob), 'my_submission_ctb_tuned.csv')"
   ]
  },
  {
   "cell_type": "markdown",
   "metadata": {},
   "source": [
    "# Ensembling"
   ]
  },
  {
   "cell_type": "code",
   "execution_count": 1230,
   "metadata": {},
   "outputs": [
    {
     "name": "stdout",
     "output_type": "stream",
     "text": [
      "891\n",
      "418\n",
      "(418,)\n"
     ]
    }
   ],
   "source": [
    "assert X_all.shape[0] == X_rf.shape[0] == X_gbm.shape[0] == X_in.shape[0]\n",
    "print(X_all.shape[0])\n",
    "\n",
    "assert X_pred_cat.shape[0] == X_pred_rf.shape[0] == X_pred_gbm.shape[0] == X_pred.shape[0]\n",
    "print(X_pred_cat.shape[0])\n",
    "\n",
    "assert y_pred_lr_proba.shape == y_pred_rf_proba.shape == y_pred_gbm_proba.shape == ctb_prob.shape\n",
    "print(y_pred_lr_proba.shape)"
   ]
  },
  {
   "cell_type": "code",
   "execution_count": 1231,
   "metadata": {},
   "outputs": [],
   "source": [
    "meta_train_df = pd.DataFrame({'logr': logr.predict_proba(X_all)[:, 1], \\\n",
    "                              'rf': rf.predict_proba(X_rf)[:, 1], \\\n",
    "                              'gbm': gbm.predict_proba(X_gbm)[:, 1], \\\n",
    "                              'ctb': ctb.predict_proba(X_in)[:, 1], \\\n",
    "                              'target': y['Survived']})"
   ]
  },
  {
   "cell_type": "markdown",
   "metadata": {},
   "source": [
    "## 2 Best Models: LogReg + CatBoost"
   ]
  },
  {
   "cell_type": "code",
   "execution_count": 1232,
   "metadata": {},
   "outputs": [
    {
     "data": {
      "image/png": "[encoded data removed]",
      "text/plain": [
       "<Figure size 432x288 with 1 Axes>"
      ]
     },
     "metadata": {
      "needs_background": "light"
     },
     "output_type": "display_data"
    }
   ],
   "source": [
    "plt.scatter(meta_train_df['logr'], meta_train_df['ctb']);"
   ]
  },
  {
   "cell_type": "code",
   "execution_count": 1233,
   "metadata": {},
   "outputs": [
    {
     "data": {
      "image/png": "[encoded data removed]",
      "text/plain": [
       "<Figure size 432x288 with 1 Axes>"
      ]
     },
     "metadata": {
      "needs_background": "light"
     },
     "output_type": "display_data"
    }
   ],
   "source": [
    "plt.scatter(y_pred_lr_proba, ctb_prob);"
   ]
  },
  {
   "cell_type": "code",
   "execution_count": 1234,
   "metadata": {},
   "outputs": [],
   "source": [
    "coef_lr = 0.5\n",
    "coef_cb = 1 - coef_lr\n",
    "y_test_1_ens = coef_lr * meta_test_df['logr'] + coef_cb * meta_test_df['ctb']\n",
    "y_pred_ens = list(map(lambda p: 1 if p >= limit else 0, y_test_1_ens))"
   ]
  },
  {
   "cell_type": "code",
   "execution_count": 1235,
   "metadata": {},
   "outputs": [
    {
     "name": "stdout",
     "output_type": "stream",
     "text": [
      "Your submission was successfully saved: my_submission_ens_2.csv\n",
      "Number of Survivers according to the model: 157\n",
      "Real number of Survivers: 158\n"
     ]
    }
   ],
   "source": [
    "submit(y_pred_ens, 'my_submission_ens_2.csv')\n",
    "print(\"Number of Survivers according to the model: {}\".format(sum(y_pred_ens)))\n",
    "print(\"Real number of Survivers: {}\".format(n_surv))"
   ]
  },
  {
   "cell_type": "markdown",
   "metadata": {},
   "source": [
    "## All 4 Models"
   ]
  },
  {
   "cell_type": "code",
   "execution_count": 1236,
   "metadata": {},
   "outputs": [
    {
     "data": {
      "image/png": "[encoded data removed]",
      "text/plain": [
       "<Figure size 432x288 with 2 Axes>"
      ]
     },
     "metadata": {
      "needs_background": "light"
     },
     "output_type": "display_data"
    }
   ],
   "source": [
    "sns.heatmap(meta_train_df.corr(), annot=True);"
   ]
  },
  {
   "cell_type": "code",
   "execution_count": 1237,
   "metadata": {},
   "outputs": [],
   "source": [
    "meta_test_df = pd.DataFrame({'logr': y_pred_lr_proba, 'rf': y_pred_rf_proba, 'gbm': y_pred_gbm_proba, 'ctb': ctb_prob})"
   ]
  },
  {
   "cell_type": "code",
   "execution_count": 1238,
   "metadata": {},
   "outputs": [
    {
     "data": {
      "image/png": "[encoded data removed]",
      "text/plain": [
       "<Figure size 432x288 with 2 Axes>"
      ]
     },
     "metadata": {
      "needs_background": "light"
     },
     "output_type": "display_data"
    }
   ],
   "source": [
    "sns.heatmap(meta_test_df.corr(), annot=True);"
   ]
  },
  {
   "cell_type": "code",
   "execution_count": 1239,
   "metadata": {},
   "outputs": [
    {
     "data": {
      "text/plain": [
       "LogisticRegression(random_state=12)"
      ]
     },
     "execution_count": 1239,
     "metadata": {},
     "output_type": "execute_result"
    }
   ],
   "source": [
    "meta_model = LogisticRegression(random_state=RSTATE)\n",
    "meta_model.fit(meta_train_df.drop(['target'], axis=1), meta_train_df['target'])"
   ]
  },
  {
   "cell_type": "code",
   "execution_count": 1240,
   "metadata": {},
   "outputs": [],
   "source": [
    "meta_predict = meta_model.predict(meta_test_df)\n",
    "meta_predict_proba = meta_model.predict_proba(meta_test_df)[:, 1]"
   ]
  },
  {
   "cell_type": "code",
   "execution_count": 1241,
   "metadata": {},
   "outputs": [
    {
     "name": "stdout",
     "output_type": "stream",
     "text": [
      "Your submission was successfully saved: my_submission_ens_4.csv\n",
      "Number of Survivers according to the model: 161\n",
      "Real number of Survivers: 158\n"
     ]
    }
   ],
   "source": [
    "submit(meta_predict, 'my_submission_ens_4.csv')\n",
    "print(\"Number of Survivers according to the model: {}\".format(sum(meta_predict)))\n",
    "print(\"Real number of Survivers: {}\".format(n_surv))"
   ]
  }
 ],
 "metadata": {
  "kernelspec": {
   "display_name": "Python 3",
   "language": "python",
   "name": "python3"
  },
  "language_info": {
   "codemirror_mode": {
    "name": "ipython",
    "version": 3
   },
   "file_extension": ".py",
   "mimetype": "text/x-python",
   "name": "python",
   "nbconvert_exporter": "python",
   "pygments_lexer": "ipython3",
   "version": "3.8.5"
  }
 },
 "nbformat": 4,
 "nbformat_minor": 1
}
